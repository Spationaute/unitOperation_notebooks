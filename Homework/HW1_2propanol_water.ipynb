{
 "cells": [
  {
   "cell_type": "markdown",
   "metadata": {},
   "source": [
    "# Txy and Pxy Diagrams for 2-propanol/water\n",
    "\n"
   ]
  },
  {
   "cell_type": "markdown",
   "metadata": {},
   "source": [
    "## Plotting the Pxy Diagram\n"
   ]
  },
  {
   "cell_type": "code",
   "execution_count": 4,
   "metadata": {
    "collapsed": true
   },
   "outputs": [],
   "source": [
    "import numpy as np\n",
    "import matplotlib.pyplot as plt\n",
    "%matplotlib inline\n",
    "from scipy.optimize import brentq,fsolve\n",
    "import thermo as th\n",
    "\n",
    "def Tboil(Psat,P):\n",
    "    return brentq(lambda T: Psat(T) - P,200,400)\n",
    "\n",
    "def PsatA(T):\n",
    "    return np.exp(16.678 - 3640.2/(T -53.54))\n",
    "\n",
    "def PsatB(T):\n",
    "    return np.exp(16.2887 - 3816.44/(T -46.13))\n",
    "\n",
    "def gamma_1(x1):\n",
    "    \n",
    "    lamb12=(V_2/V_1)*np.exp((-1*a_12)/(R*T))\n",
    "    lamb21=(V_1/V_2)*np.exp((-1*a_21)/(R*T))\n",
    "    x2=1-x1\n",
    "    t1=-1*np.log(x1+lamb12*x2)\n",
    "    t2=lamb12/(x1+lamb12*x2)\n",
    "    t3=lamb21/(x2+lamb21*x1)\n",
    "    ans=t1+x2*(t2-t3)\n",
    "    return np.exp(ans)\n",
    "\n",
    "def gamma_2(x2):\n",
    "    lamb12=(V_2/V_1)*np.exp((-1*a_12)/(R*T))\n",
    "    lamb21=(V_1/V_2)*np.exp((-1*a_21)/(R*T))\n",
    "    x1=1-x2\n",
    "    t1=-1*np.log(x2+lamb21*x1)\n",
    "    t2=lamb12/(x1+lamb12*x2)\n",
    "    t3=lamb21/(x2+lamb21*x1)\n",
    "    ans=t1-x1*(t2-t3)\n",
    "    return np.exp(ans)\n",
    "\n",
    "def gamma_1_T(x1,Temp):\n",
    "    \n",
    "    lamb12=(V_2/V_1)*np.exp((-1*a_12)/(R*Temp))\n",
    "    lamb21=(V_1/V_2)*np.exp((-1*a_21)/(R*Temp))\n",
    "    x2=1-x1\n",
    "    t1=-1*np.log(x1+lamb12*x2)\n",
    "    t2=lamb12/(x1+lamb12*x2)\n",
    "    t3=lamb21/(x2+lamb21*x1)\n",
    "    ans=t1+x2*(t2-t3)\n",
    "    return np.exp(ans)\n",
    "\n",
    "def gamma_2_T(x2,Temp):\n",
    "    lamb12=(V_2/V_1)*np.exp((-1*a_12)/(R*Temp))\n",
    "    lamb21=(V_1/V_2)*np.exp((-1*a_21)/(R*Temp))\n",
    "    x1=1-x2\n",
    "    t1=-1*np.log(x2+lamb21*x1)\n",
    "    t2=lamb12/(x1+lamb12*x2)\n",
    "    t3=lamb21/(x2+lamb21*x1)\n",
    "    ans=t1-x1*(t2-t3)\n",
    "    return np.exp(ans)\n",
    "\n",
    "def P(x1):\n",
    "    x2=1-x1\n",
    "    return x1*gamma_1(x1)*Psat_1+x2*gamma_2(x2)*Psat_2\n",
    "\n",
    "def y(x1):\n",
    "    return (x1*Psat_1*gamma_1(x1))/P(x1)\n",
    "\n",
    "def y_1(T):\n",
    "    return x_1*PsatA(T)*gamma_1_T(x_1,T)/P"
   ]
  },
  {
   "cell_type": "markdown",
   "metadata": {},
   "source": [
    "The calculations in this notebook are for a representative system of two components, acetone and ethanol. We start by creating two functions to estimate vapor pressure for the individual species using Antoine's equation."
   ]
  },
  {
   "cell_type": "code",
   "execution_count": 5,
   "metadata": {},
   "outputs": [
    {
     "ename": "NameError",
     "evalue": "name 'PsatA1' is not defined",
     "output_type": "error",
     "traceback": [
      "\u001b[0;31m---------------------------------------------------------------------------\u001b[0m",
      "\u001b[0;31mNameError\u001b[0m                                 Traceback (most recent call last)",
      "\u001b[0;32m<ipython-input-5-de6d670162c7>\u001b[0m in \u001b[0;36m<module>\u001b[0;34m()\u001b[0m\n\u001b[1;32m      8\u001b[0m \u001b[0mV_1\u001b[0m\u001b[0;34m=\u001b[0m\u001b[0;36m76.92\u001b[0m\u001b[0;34m\u001b[0m\u001b[0m\n\u001b[1;32m      9\u001b[0m \u001b[0mV_2\u001b[0m\u001b[0;34m=\u001b[0m\u001b[0;36m18.07\u001b[0m\u001b[0;34m\u001b[0m\u001b[0m\n\u001b[0;32m---> 10\u001b[0;31m \u001b[0mPsat_1\u001b[0m\u001b[0;34m=\u001b[0m \u001b[0mPsatA1\u001b[0m\u001b[0;34m(\u001b[0m\u001b[0mT\u001b[0m\u001b[0;34m)\u001b[0m\u001b[0;34m\u001b[0m\u001b[0m\n\u001b[0m\u001b[1;32m     11\u001b[0m \u001b[0mPsat_2\u001b[0m\u001b[0;34m=\u001b[0m \u001b[0mPsatB1\u001b[0m\u001b[0;34m(\u001b[0m\u001b[0mT\u001b[0m\u001b[0;34m)\u001b[0m\u001b[0;34m\u001b[0m\u001b[0m\n\u001b[1;32m     12\u001b[0m \u001b[0mprint\u001b[0m \u001b[0;34m(\u001b[0m\u001b[0;34m\"Psat_2propanol=\"\u001b[0m\u001b[0;34m,\u001b[0m\u001b[0mPsat_1\u001b[0m\u001b[0;34m)\u001b[0m\u001b[0;34m\u001b[0m\u001b[0m\n",
      "\u001b[0;31mNameError\u001b[0m: name 'PsatA1' is not defined"
     ]
    }
   ],
   "source": [
    "# Antoine's equations\n",
    "A = '2-propanol'\n",
    "B = 'water'\n",
    "R=1.987\n",
    "T=353.15\n",
    "a_12=437.98\n",
    "a_21=1238\n",
    "V_1=76.92\n",
    "V_2=18.07\n",
    "Psat_1= PsatA1(T)\n",
    "Psat_2= PsatB1(T)\n",
    "print (\"Psat_2propanol=\",Psat_1)\n",
    "print (\"Psat_water=\",Psat_2)"
   ]
  },
  {
   "cell_type": "code",
   "execution_count": null,
   "metadata": {},
   "outputs": [],
   "source": [
    "x_1 = np.linspace(0.001,0.999)\n",
    "plt.plot(x_1, P(x_1),y(x_1),P(x_1))\n",
    "plt.title('P-xy Diagram {:s}-{:s} at {:.1f} [deg C]'.format(A,B,T))\n",
    "plt.legend(['Bubble Temperature','Dew Temperature'],loc='best')\n",
    "plt.ylabel('Pressure [kPa]')\n",
    "plt.xlabel('x,y Mole Fraction {:s}'.format(A))\n",
    "plt.xlim(0,1)\n",
    "plt.grid();"
   ]
  },
  {
   "cell_type": "markdown",
   "metadata": {},
   "source": [
    "## Plotting the Txy Diagram"
   ]
  },
  {
   "cell_type": "code",
   "execution_count": null,
   "metadata": {},
   "outputs": [],
   "source": [
    "P = 101.33\n",
    "print (\"Normal boiling  point of {:s} is {:.4f} deg C\".format(A,Tboil(PsatA,P)))\n",
    "print (\"Normal boiling point of {:s} is {:.4f} deg C\".format(B,Tboil(PsatB,P)))"
   ]
  },
  {
   "cell_type": "code",
   "execution_count": null,
   "metadata": {},
   "outputs": [],
   "source": [
    "x_1 = np.linspace(0.001,0.999)\n",
    "x_2 = 1-x_1\n",
    "T=np.zeros(x_1.size)\n",
    "for i in range(x_1.size):\n",
    "    T[i]=brentq(lambda TT: (x_1[i]*gamma_1_T(x_1[i],TT)*PsatA(TT)+x_2[i]*gamma_2_T(x_2[i],TT)*PsatB(TT))-P,100,900)    \n",
    "print(brentq(lambda TT: (0.75*gamma_1_T(0.75,TT)*PsatA(TT)+0.25*gamma_2_T(0.25,TT)*PsatB(TT))-P,100,900))\n",
    "plt.plot(x_1,T,y_1(T),T)\n",
    "plt.title('Txy Diagram {:s}-{:s} at {:.1f} [mmHg]'.format(A,B,P))\n",
    "plt.legend(['Bubble Temperature','Dew Temperature'],loc='best')\n",
    "plt.ylabel('Temperature [deg C]')\n",
    "plt.xlabel('x,y Mole Fraction {:s}'.format(A))\n",
    "plt.xlim(0,1)\n",
    "plt.grid();"
   ]
  },
  {
   "cell_type": "code",
   "execution_count": null,
   "metadata": {
    "collapsed": true
   },
   "outputs": [],
   "source": []
  }
 ],
 "metadata": {
  "kernelspec": {
   "display_name": "Python 3",
   "language": "python",
   "name": "python3"
  },
  "language_info": {
   "codemirror_mode": {
    "name": "ipython",
    "version": 3
   },
   "file_extension": ".py",
   "mimetype": "text/x-python",
   "name": "python",
   "nbconvert_exporter": "python",
   "pygments_lexer": "ipython3",
   "version": "3.6.0"
  }
 },
 "nbformat": 4,
 "nbformat_minor": 1
}
