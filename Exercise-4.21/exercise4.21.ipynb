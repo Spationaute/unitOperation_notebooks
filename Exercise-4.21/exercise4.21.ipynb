{
 "cells": [
  {
   "cell_type": "markdown",
   "metadata": {},
   "source": [
    "<img src='Exercise4.21.png'>"
   ]
  },
  {
   "cell_type": "code",
   "execution_count": 1,
   "metadata": {
    "collapsed": true
   },
   "outputs": [],
   "source": [
    "import numpy as np\n",
    "import matplotlib.pyplot as plt\n",
    "%matplotlib inline"
   ]
  },
  {
   "cell_type": "code",
   "execution_count": 2,
   "metadata": {
    "collapsed": true
   },
   "outputs": [],
   "source": [
    "\n",
    "\n",
    "P = 760\n",
    "T = 65\n",
    "\n",
    "z = dict()\n",
    "z['component_1'] = 0.0079\n",
    "z['component_2'] = 0.1321\n",
    "z['component_3'] = 0.0849\n",
    "z['component_4'] = 0.269\n",
    "z['component_5'] = 0.0589\n",
    "z['component_6'] = 0.1321\n",
    "z['component_7'] = 1 - sum(z.values())\n",
    "\n"
   ]
  },
  {
   "cell_type": "code",
   "execution_count": 6,
   "metadata": {},
   "outputs": [
    {
     "name": "stdout",
     "output_type": "stream",
     "text": [
      "Pressure     760.00 [mmHg]\n",
      "Temperature   65.00 [deg C]\n",
      "K-factors:\n",
      "   component_1   16.200\n",
      "   component_2    5.200\n",
      "   component_3    2.600\n",
      "   component_4    1.980\n",
      "   component_5    0.910\n",
      "   component_6    0.720\n",
      "   component_7    0.280\n"
     ]
    }
   ],
   "source": [
    "\n",
    "\n",
    "K = dict()\n",
    "K['component_1'] = 16.2\n",
    "K['component_2'] = 5.2\n",
    "K['component_3'] = 2.6\n",
    "K['component_4'] = 1.98\n",
    "K['component_5'] = 0.91\n",
    "K['component_6'] =  0.72\n",
    "K['component_7'] =  0.28\n",
    "\n",
    "\n",
    "print(\"Pressure     {:6.2f} [mmHg]\".format(P))\n",
    "print(\"Temperature  {:6.2f} [deg C]\".format(T))\n",
    "print(\"K-factors:\")\n",
    "\n",
    "for n in K:\n",
    "    print(\"   {:s}  {:7.3f}\".format(n,K[n]))\n",
    "\n"
   ]
  },
  {
   "cell_type": "code",
   "execution_count": 7,
   "metadata": {},
   "outputs": [
    {
     "data": {
      "image/png": "[encoded data removed]",
      "text/plain": [
       "<matplotlib.figure.Figure at 0x151536b8d0>"
      ]
     },
     "metadata": {},
     "output_type": "display_data"
    }
   ],
   "source": [
    "def RR(phi):\n",
    "    return sum([(K[n]-1)*z[n]/(1 + phi*(K[n]-1)) for n in K.keys()])\n",
    "\n",
    "phi = np.linspace(0,1)\n",
    "plt.plot(phi,[RR(phi) for phi in phi])\n",
    "plt.xlabel('Vapor Fraction phi')\n",
    "plt.title('Rachford-Rice Equation')\n",
    "plt.grid();\n",
    "\n"
   ]
  },
  {
   "cell_type": "code",
   "execution_count": 8,
   "metadata": {},
   "outputs": [
    {
     "name": "stdout",
     "output_type": "stream",
     "text": [
      "Vapor Fraction  0.5489\n",
      "Liquid Fraction 0.4511\n"
     ]
    }
   ],
   "source": [
    "\n",
    "\n",
    "from scipy.optimize import brentq\n",
    " \n",
    "phi = brentq(RR,0,1)\n",
    "\n",
    "print(\"Vapor Fraction  {:6.4f}\".format(phi))\n",
    "print(\"Liquid Fraction {:6.4f}\".format(1-phi))\n",
    "\n"
   ]
  },
  {
   "cell_type": "code",
   "execution_count": 6,
   "metadata": {},
   "outputs": [
    {
     "name": "stdout",
     "output_type": "stream",
     "text": [
      "Component    z[n]    x[n]    y[n]\n",
      "component_1 0.0079  0.0008  0.0137\n",
      "component_2 0.1321  0.0400  0.2078\n",
      "component_3 0.0849  0.0452  0.1175\n",
      "component_4 0.2690  0.1749  0.3463\n",
      "component_5 0.0589  0.0620  0.0564\n",
      "component_6 0.1321  0.1561  0.1124\n",
      "component_7 0.3151  0.5210  0.1459\n"
     ]
    }
   ],
   "source": [
    "\n",
    "x = {n: z[n]/(1 + phi*(K[n]-1)) for n in z}\n",
    "y = {n: K[n]*z[n]/(1 + phi*(K[n]-1)) for n in z}\n",
    "\n",
    "print(\"Component    z[n]    x[n]    y[n]\")\n",
    "\n",
    "for n in z.keys():\n",
    "    print(\"{:10s} {:6.4f}  {:6.4f}  {:6.4f}\".format(n,z[n],x[n],y[n]))\n",
    "\n"
   ]
  },
  {
   "cell_type": "code",
   "execution_count": null,
   "metadata": {
    "collapsed": true
   },
   "outputs": [],
   "source": []
  }
 ],
 "metadata": {
  "kernelspec": {
   "display_name": "Python 3",
   "language": "python",
   "name": "python3"
  },
  "language_info": {
   "codemirror_mode": {
    "name": "ipython",
    "version": 3
   },
   "file_extension": ".py",
   "mimetype": "text/x-python",
   "name": "python",
   "nbconvert_exporter": "python",
   "pygments_lexer": "ipython3",
   "version": "3.6.3"
  }
 },
 "nbformat": 4,
 "nbformat_minor": 2
}
