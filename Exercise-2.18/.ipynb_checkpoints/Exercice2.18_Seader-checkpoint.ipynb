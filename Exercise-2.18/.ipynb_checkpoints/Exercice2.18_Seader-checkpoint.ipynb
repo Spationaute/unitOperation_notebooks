{
 "cells": [
  {
   "cell_type": "markdown",
   "metadata": {},
   "source": [
    "Exercise 2.18 \n",
    "\n",
    "Estimation of partial fugacity coefficients of propane and benzene using R-K EOS:\n",
    "\n",
    "$$P=\\frac{RT}{\\nu-b}-\\frac{a}{\\nu^2+b\\nu}$$\n",
    "\n",
    "$$\\overline{\\phi}_{iV} =exp \\bigg[ (Z_v-1)\\frac{B_i}{B}-ln(Z_v-B)-\\frac{A}{B} \\bigg( 2 \\sqrt{\\frac{A_i}{A}}-\\frac{B_i}{B}\\bigg)+ln \\bigg( 1+ \\frac{B}{Z_v}\\bigg)  \\bigg]$$\n",
    "\n",
    "\n"
   ]
  },
  {
   "cell_type": "code",
   "execution_count": 241,
   "metadata": {},
   "outputs": [],
   "source": [
    "import numpy as np\n",
    "import matplotlib.pyplot as plt\n",
    "%matplotlib inline\n",
    "E = 'propane'  #1\n",
    "B = 'benzene'   #2\n",
    "P = 2829 #kPa\n",
    "T= 477.6 #kelvin\n",
    "\n",
    "Tc_p = 369.8  #kelvin\n",
    "Pc_p = 4250   #kP\n",
    "\n",
    "Tc_b = 562.2   #kelvin\n",
    "Pc_b = 4890   #kP\n",
    "\n",
    "w_p = 0.2692   #weight fraction\n",
    "w_b = 1-w_p\n",
    "\n",
    "global R \n",
    "global M_p\n",
    "global M_b\n",
    "\n",
    "R = 8.3144\n",
    "\n",
    "y[0]=0.3949 #molar fraction propane(1)\n",
    "y[1]=0.6051  #molar fraction benzene(2)\n",
    "\n",
    "b=np.zeros(2)\n",
    "a=np.zeros(2)\n",
    "A=np.zeros(2)\n",
    "B=np.zeros(2)\n",
    "\n",
    "M_p = 44.097 # molecular weight propane \n",
    "M_b = 78.114 # molecular wight  benzene \n"
   ]
  },
  {
   "cell_type": "markdown",
   "metadata": {},
   "source": [
    "$$b_i=0.08664RT_c / P_c$$\n",
    "\n",
    "$$a_i=0.42748R^2 {T_c}^{2.5} / P_c T^{0.5}$$\n",
    "\n",
    "$$a=\\sum_{i=1}^{C} \\bigg[ \\sum_{j=1}{C} y_i y_j {(a_i a_j)}^{0.5} \\bigg] $$\n",
    "$$b=\\sum_{i=1}^{C} y_i b_i $$"
   ]
  },
  {
   "cell_type": "code",
   "execution_count": 242,
   "metadata": {},
   "outputs": [],
   "source": [
    "\n",
    "def b_RK(T,P):\n",
    "    \n",
    "    ans=0.08664*R*T/P\n",
    "     \n",
    "    return ans\n",
    "\n",
    "\n",
    "def a_RK(T,P):\n",
    "    \n",
    "    ans=0.42748*np.power(R,2)*np.power(T,2.5)/(P*np.power(T,0.5))\n",
    "     \n",
    "    return ans\n",
    "\n",
    "\n",
    "def a_RK_mix(a,y):\n",
    "    sum_out=0.0\n",
    "    for i in range(2):\n",
    "        sum_in=0.0\n",
    "        for j in range(2):\n",
    "            sum_in+=y[i]*y[j]*(a[i]*a[j])**0.5\n",
    "        sum_out+=sum_in\n",
    "     \n",
    "    return sum_out\n",
    "\n",
    "def b_RK_mix(b,y):\n",
    "    sum_out=0.0\n",
    "    for i in range(2):\n",
    "        \n",
    "        \n",
    "        sum_out+=y[i]*b[i]\n",
    "     \n",
    "    return sum_out\n",
    "\n",
    "def phiv(Zv,Ai,Am,Bi,Bm):\n",
    "    \n",
    "\n",
    "   \n",
    "    ans=np.exp((Zv-1)*Bi/Bm-np.log(Zv-Bm)-(Am/Bm)*np.log(1+Bm/Zv)*(2*(np.power((Ai/Am),0.5))-Bi/Bm))\n",
    "\n",
    "    \n",
    "    return ans\n",
    "\n",
    "\n"
   ]
  },
  {
   "cell_type": "markdown",
   "metadata": {},
   "source": [
    "$$A_i=\\frac{a_i P}{R^2 T^2}$$\n",
    "$$B_i=\\frac{b_i P}{RT}$$\n",
    "$$A=\\frac{aP}{R^2 T^2}$$\n",
    "$$B=\\frac{bP}{RT}$$\n"
   ]
  },
  {
   "cell_type": "code",
   "execution_count": 243,
   "metadata": {},
   "outputs": [
    {
     "name": "stdout",
     "output_type": "stream",
     "text": [
      "A= 0.267626528763\n",
      "B= 0.0533363557677\n"
     ]
    }
   ],
   "source": [
    "b[0]=b_RK(Tc_p,Pc_p)\n",
    "a[0]=a_RK(Tc_p,Pc_p)\n",
    "\n",
    "b[1]=b_RK(Tc_b,Pc_b)\n",
    "a[1]=a_RK(Tc_b,Pc_b)\n",
    "\n",
    "Am= a_RK_mix(a,y)*P/(R**2*T**2)\n",
    "Bm= b_RK_mix(b,y)*P/(R*T)\n",
    "\n",
    "print ('A=' ,Am)\n",
    "print ('B=' ,Bm)\n",
    "\n"
   ]
  },
  {
   "cell_type": "markdown",
   "metadata": {},
   "source": [
    "$$Z^3-Z^2+(A-B-B^2)Z-AB$$\n",
    "\n",
    "$$Z^3-Z^2+0.2163Z-0.01451=0$$\n",
    "\n",
    "Finding the roots:\n"
   ]
  },
  {
   "cell_type": "code",
   "execution_count": 244,
   "metadata": {},
   "outputs": [
    {
     "name": "stdout",
     "output_type": "stream",
     "text": [
      "[ 0.73138511+0.j          0.13430744+0.04243324j  0.13430744-0.04243324j]\n"
     ]
    }
   ],
   "source": [
    "ppar=[1,-1,0.2163,-0.01451]\n",
    "Zv=np.roots(ppar)\n",
    "print (Zv)\n",
    "    "
   ]
  },
  {
   "cell_type": "markdown",
   "metadata": {},
   "source": [
    "$$\\overline{\\phi}_{iV} =exp \\bigg[ (Z_v-1)\\frac{B_i}{B}-ln(Z_v-B)-\\frac{A}{B} \\bigg( 2 \\sqrt{\\frac{A_i}{A}}-\\frac{B_i}{B}\\bigg)+ln \\bigg( 1+ \\frac{B}{Z_v}\\bigg)  \\bigg]$$"
   ]
  },
  {
   "cell_type": "code",
   "execution_count": 245,
   "metadata": {},
   "outputs": [],
   "source": [
    "A[0]=a[0]*P/(R**2*T**2)\n",
    "A[1]=a[1]*P/(R**2*T**2)\n",
    "B[0]= b[0]*P/(R*T)\n",
    "B[1]= b[1]*P/(R*T)\n",
    "\n"
   ]
  },
  {
   "cell_type": "code",
   "execution_count": 234,
   "metadata": {},
   "outputs": [
    {
     "name": "stdout",
     "output_type": "stream",
     "text": [
      "(0.900661149188+0j)\n",
      "(0.728167724298+0j)\n"
     ]
    }
   ],
   "source": [
    "\n",
    "print(phiv(Zv[0],A[0],Am,B[0],Bm))\n",
    "\n",
    "print(phiv(Zv[0],A[1],Am,B[1],Bm))\n",
    "\n",
    "\n"
   ]
  },
  {
   "cell_type": "code",
   "execution_count": null,
   "metadata": {
    "collapsed": true
   },
   "outputs": [],
   "source": []
  },
  {
   "cell_type": "code",
   "execution_count": null,
   "metadata": {
    "collapsed": true
   },
   "outputs": [],
   "source": []
  }
 ],
 "metadata": {
  "kernelspec": {
   "display_name": "Python 3",
   "language": "python",
   "name": "python3"
  },
  "language_info": {
   "codemirror_mode": {
    "name": "ipython",
    "version": 3
   },
   "file_extension": ".py",
   "mimetype": "text/x-python",
   "name": "python",
   "nbconvert_exporter": "python",
   "pygments_lexer": "ipython3",
   "version": "3.6.3"
  }
 },
 "nbformat": 4,
 "nbformat_minor": 2
}
